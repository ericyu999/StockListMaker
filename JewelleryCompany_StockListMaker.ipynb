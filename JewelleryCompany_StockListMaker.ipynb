{
 "cells": [
  {
   "cell_type": "code",
   "execution_count": 3,
   "metadata": {},
   "outputs": [],
   "source": [
    "import pandas as pd\n",
    "import numpy as np\n",
    "import re\n",
    "\n",
    "df = pd.read_excel('vip.xlsx')  #read the excel file, column ITEM, QTY ON HAND, QTY ON ORDER\n",
    "df.loc[:, 'number'] = 0         #add new column 'number', initial to 0\n",
    "df.loc[:, 'letter'] = 's'       #add new column 'letter', initial to 's'\n",
    "for index, row in df.iterrows():\n",
    "    df.iloc[index, 3] = int(''.join((re.findall('\\d+', row.ITEM))))    #extract number from 'ITEM', assign to 'number'\n",
    "    df.iloc[index, 4] =row.ITEM[0]                                     #extract first letter from 'ITEM', assign to 'letter'\n",
    "\n",
    "df.sort_values(by=['letter', 'number'], ascending=[True, True], inplace=True)  #sort by 'letter' and 'number'\n",
    "\n",
    "writer = pd.ExcelWriter('vip_sorted.xlsx')    #save to new excel file\n",
    "df.to_excel(writer, 'Sheet1', index=False)\n",
    "writer.save()\n",
    "\n",
    "\n"
   ]
  }
 ],
 "metadata": {
  "kernelspec": {
   "display_name": "Python 3",
   "language": "python",
   "name": "python3"
  },
  "language_info": {
   "codemirror_mode": {
    "name": "ipython",
    "version": 3
   },
   "file_extension": ".py",
   "mimetype": "text/x-python",
   "name": "python",
   "nbconvert_exporter": "python",
   "pygments_lexer": "ipython3",
   "version": "3.6.5"
  }
 },
 "nbformat": 4,
 "nbformat_minor": 2
}
